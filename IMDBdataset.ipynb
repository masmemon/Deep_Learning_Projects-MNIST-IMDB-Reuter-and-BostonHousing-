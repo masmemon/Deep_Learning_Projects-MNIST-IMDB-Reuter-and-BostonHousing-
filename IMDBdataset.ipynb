{
 "cells": [
  {
   "cell_type": "code",
   "execution_count": 1,
   "metadata": {
    "colab": {},
    "colab_type": "code",
    "id": "4BAEsQzidjHZ"
   },
   "outputs": [
    {
     "name": "stderr",
     "output_type": "stream",
     "text": [
      "Using TensorFlow backend.\n"
     ]
    }
   ],
   "source": [
    "import keras"
   ]
  },
  {
   "cell_type": "code",
   "execution_count": 2,
   "metadata": {
    "colab": {},
    "colab_type": "code",
    "id": "5Lpek-qKeUij"
   },
   "outputs": [],
   "source": [
    "from keras import models\n",
    "from keras import layers\n",
    "import numpy as np\n",
    "old = np.load\n",
    "np.load = lambda *a,**k: old(*a,**k,allow_pickle=True)\n",
    "\n",
    "from keras.datasets import imdb\n",
    "(train_data, train_labels), (test_data, test_labels) = imdb.load_data(num_words=10000)\n",
    "\n",
    "np.load = old\n",
    "del(old)"
   ]
  },
  {
   "cell_type": "code",
   "execution_count": 15,
   "metadata": {
    "colab": {},
    "colab_type": "code",
    "id": "RivN7XQIeY-M"
   },
   "outputs": [],
   "source": [
    "word_index = imdb.get_word_index()\n",
    "reverse_word_index = dict([(value, key) for (key, value) in word_index.items()])\n",
    "decoded_review = ' '.join([reverse_word_index.get(i-3, '?') for i in train_data[0]])"
   ]
  },
  {
   "cell_type": "code",
   "execution_count": 17,
   "metadata": {
    "colab": {},
    "colab_type": "code",
    "id": "roTZniX5W9Jy"
   },
   "outputs": [],
   "source": [
    "import numpy as np\n",
    "def vectorize_sequences(sequences, dimension=10000):\n",
    "    results = np.zeros((len(sequences), dimension))\n",
    "    for i, sequence in enumerate(sequences):\n",
    "        results[i, sequence] = 1.\n",
    "    return results"
   ]
  },
  {
   "cell_type": "code",
   "execution_count": 18,
   "metadata": {
    "colab": {},
    "colab_type": "code",
    "id": "SryOhhVlXCJd"
   },
   "outputs": [],
   "source": [
    "x_train = vectorize_sequences(train_data)\n",
    "x_test = vectorize_sequences(test_data)"
   ]
  },
  {
   "cell_type": "code",
   "execution_count": 19,
   "metadata": {},
   "outputs": [
    {
     "data": {
      "text/plain": [
       "array([[0., 1., 1., ..., 0., 0., 0.],\n",
       "       [0., 1., 1., ..., 0., 0., 0.],\n",
       "       [0., 1., 1., ..., 0., 0., 0.],\n",
       "       ...,\n",
       "       [0., 1., 1., ..., 0., 0., 0.],\n",
       "       [0., 1., 1., ..., 0., 0., 0.],\n",
       "       [0., 1., 1., ..., 0., 0., 0.]])"
      ]
     },
     "execution_count": 19,
     "metadata": {},
     "output_type": "execute_result"
    }
   ],
   "source": [
    "x_train"
   ]
  },
  {
   "cell_type": "code",
   "execution_count": 0,
   "metadata": {
    "colab": {},
    "colab_type": "code",
    "id": "obJM7XRsXkVD"
   },
   "outputs": [],
   "source": [
    "a = np.zeros((len(train_data),10000))\n",
    "\n",
    "for i, u in enumerate(train_data):\n",
    "    a[i, u] = 1.\n",
    "    \n",
    "  # bina function banae whi kaam kia! abi srf train data pe kia hy, test data pe b aesy hi hoga!"
   ]
  },
  {
   "cell_type": "code",
   "execution_count": 25,
   "metadata": {
    "colab": {
     "base_uri": "https://localhost:8080/",
     "height": 34
    },
    "colab_type": "code",
    "executionInfo": {
     "elapsed": 3108,
     "status": "ok",
     "timestamp": 1562504966515,
     "user": {
      "displayName": "Muhammad Awais Saleem Memon",
      "photoUrl": "https://lh6.googleusercontent.com/-EfR3xGC-btQ/AAAAAAAAAAI/AAAAAAAAGPU/E7x558Cz854/s64/photo.jpg",
      "userId": "05252819895099812871"
     },
     "user_tz": -300
    },
    "id": "KiacGaJrXnCO",
    "outputId": "ed841757-72d6-4174-f955-21d7cf2779e1"
   },
   "outputs": [
    {
     "data": {
      "text/plain": [
       "array([1., 0., 0., ..., 0., 1., 0.], dtype=float32)"
      ]
     },
     "execution_count": 25,
     "metadata": {
      "tags": []
     },
     "output_type": "execute_result"
    }
   ],
   "source": [
    "y_train = train_labels.astype('float32')\n",
    "y_test = test_labels.astype('float32')\n",
    "\n",
    "y_train"
   ]
  },
  {
   "cell_type": "code",
   "execution_count": 0,
   "metadata": {
    "colab": {},
    "colab_type": "code",
    "id": "q6FFp1FcYGRP"
   },
   "outputs": [],
   "source": [
    "from keras import layers, models"
   ]
  },
  {
   "cell_type": "code",
   "execution_count": 27,
   "metadata": {
    "colab": {
     "base_uri": "https://localhost:8080/",
     "height": 156
    },
    "colab_type": "code",
    "executionInfo": {
     "elapsed": 845,
     "status": "ok",
     "timestamp": 1562504973869,
     "user": {
      "displayName": "Muhammad Awais Saleem Memon",
      "photoUrl": "https://lh6.googleusercontent.com/-EfR3xGC-btQ/AAAAAAAAAAI/AAAAAAAAGPU/E7x558Cz854/s64/photo.jpg",
      "userId": "05252819895099812871"
     },
     "user_tz": -300
    },
    "id": "O8MMdhXLYWoU",
    "outputId": "61950afd-1f56-4eab-a1fd-8467bd99af2c"
   },
   "outputs": [
    {
     "name": "stderr",
     "output_type": "stream",
     "text": [
      "WARNING: Logging before flag parsing goes to stderr.\n",
      "W0707 13:09:31.776415 139730835896192 deprecation_wrapper.py:119] From /usr/local/lib/python3.6/dist-packages/keras/backend/tensorflow_backend.py:74: The name tf.get_default_graph is deprecated. Please use tf.compat.v1.get_default_graph instead.\n",
      "\n",
      "W0707 13:09:31.832354 139730835896192 deprecation_wrapper.py:119] From /usr/local/lib/python3.6/dist-packages/keras/backend/tensorflow_backend.py:517: The name tf.placeholder is deprecated. Please use tf.compat.v1.placeholder instead.\n",
      "\n",
      "W0707 13:09:31.849891 139730835896192 deprecation_wrapper.py:119] From /usr/local/lib/python3.6/dist-packages/keras/backend/tensorflow_backend.py:4138: The name tf.random_uniform is deprecated. Please use tf.random.uniform instead.\n",
      "\n"
     ]
    }
   ],
   "source": [
    "my_model = models.Sequential()\n",
    "my_model.add(layers.Dense(16, activation='relu', input_shape=(10000,)))\n",
    "my_model.add(layers.Dense(16, activation='relu'))\n",
    "my_model.add(layers.Dense(1, activation='sigmoid'))"
   ]
  },
  {
   "cell_type": "code",
   "execution_count": 28,
   "metadata": {
    "colab": {
     "base_uri": "https://localhost:8080/",
     "height": 156
    },
    "colab_type": "code",
    "executionInfo": {
     "elapsed": 895,
     "status": "ok",
     "timestamp": 1562505997244,
     "user": {
      "displayName": "Muhammad Awais Saleem Memon",
      "photoUrl": "https://lh6.googleusercontent.com/-EfR3xGC-btQ/AAAAAAAAAAI/AAAAAAAAGPU/E7x558Cz854/s64/photo.jpg",
      "userId": "05252819895099812871"
     },
     "user_tz": -300
    },
    "id": "rp0IVx_9a0qq",
    "outputId": "776e39e1-78a2-4f40-8d80-ed8453f7159e"
   },
   "outputs": [
    {
     "name": "stderr",
     "output_type": "stream",
     "text": [
      "W0707 13:26:35.143373 139730835896192 deprecation_wrapper.py:119] From /usr/local/lib/python3.6/dist-packages/keras/optimizers.py:790: The name tf.train.Optimizer is deprecated. Please use tf.compat.v1.train.Optimizer instead.\n",
      "\n",
      "W0707 13:26:35.172388 139730835896192 deprecation_wrapper.py:119] From /usr/local/lib/python3.6/dist-packages/keras/backend/tensorflow_backend.py:3376: The name tf.log is deprecated. Please use tf.math.log instead.\n",
      "\n",
      "W0707 13:26:35.180338 139730835896192 deprecation.py:323] From /usr/local/lib/python3.6/dist-packages/tensorflow/python/ops/nn_impl.py:180: add_dispatch_support.<locals>.wrapper (from tensorflow.python.ops.array_ops) is deprecated and will be removed in a future version.\n",
      "Instructions for updating:\n",
      "Use tf.where in 2.0, which has the same broadcast rule as np.where\n"
     ]
    }
   ],
   "source": [
    "from keras import optimizers, losses, metrics\n",
    "my_model.compile(loss='binary_crossentropy',\n",
    "                optimizer='RMSprop',\n",
    "                metrics=['accuracy'])"
   ]
  },
  {
   "cell_type": "code",
   "execution_count": 0,
   "metadata": {
    "colab": {},
    "colab_type": "code",
    "id": "T0QG6mEUb5m9"
   },
   "outputs": [],
   "source": [
    "x_data=x_train[:1000]\n",
    "partial_x_data = x_train[1000:]\n",
    "\n",
    "y_labels = y_train[:1000]\n",
    "partial_y_labels = y_train[1000:]"
   ]
  },
  {
   "cell_type": "code",
   "execution_count": 30,
   "metadata": {
    "colab": {
     "base_uri": "https://localhost:8080/",
     "height": 768
    },
    "colab_type": "code",
    "executionInfo": {
     "elapsed": 58088,
     "status": "ok",
     "timestamp": 1562506099319,
     "user": {
      "displayName": "Muhammad Awais Saleem Memon",
      "photoUrl": "https://lh6.googleusercontent.com/-EfR3xGC-btQ/AAAAAAAAAAI/AAAAAAAAGPU/E7x558Cz854/s64/photo.jpg",
      "userId": "05252819895099812871"
     },
     "user_tz": -300
    },
    "id": "usPPN5yBdG5i",
    "outputId": "67febac7-f2d6-47cf-dc71-fa98733b141b"
   },
   "outputs": [
    {
     "name": "stderr",
     "output_type": "stream",
     "text": [
      "W0707 13:27:20.195890 139730835896192 deprecation_wrapper.py:119] From /usr/local/lib/python3.6/dist-packages/keras/backend/tensorflow_backend.py:986: The name tf.assign_add is deprecated. Please use tf.compat.v1.assign_add instead.\n",
      "\n"
     ]
    },
    {
     "name": "stdout",
     "output_type": "stream",
     "text": [
      "Train on 24000 samples, validate on 1000 samples\n",
      "Epoch 1/20\n",
      "24000/24000 [==============================] - 4s 185us/step - loss: 0.4486 - acc: 0.8226 - val_loss: 0.3197 - val_acc: 0.8780\n",
      "Epoch 2/20\n",
      "24000/24000 [==============================] - 3s 117us/step - loss: 0.2598 - acc: 0.9086 - val_loss: 0.2610 - val_acc: 0.8880\n",
      "Epoch 3/20\n",
      "24000/24000 [==============================] - 3s 114us/step - loss: 0.1997 - acc: 0.9301 - val_loss: 0.2500 - val_acc: 0.8900\n",
      "Epoch 4/20\n",
      "24000/24000 [==============================] - 3s 113us/step - loss: 0.1671 - acc: 0.9412 - val_loss: 0.2551 - val_acc: 0.8920\n",
      "Epoch 5/20\n",
      "24000/24000 [==============================] - 3s 117us/step - loss: 0.1421 - acc: 0.9503 - val_loss: 0.2644 - val_acc: 0.8900\n",
      "Epoch 6/20\n",
      "24000/24000 [==============================] - 3s 113us/step - loss: 0.1216 - acc: 0.9584 - val_loss: 0.2802 - val_acc: 0.8930\n",
      "Epoch 7/20\n",
      "24000/24000 [==============================] - 3s 114us/step - loss: 0.1047 - acc: 0.9646 - val_loss: 0.3107 - val_acc: 0.8880\n",
      "Epoch 8/20\n",
      "24000/24000 [==============================] - 3s 116us/step - loss: 0.0901 - acc: 0.9693 - val_loss: 0.3178 - val_acc: 0.8850\n",
      "Epoch 9/20\n",
      "24000/24000 [==============================] - 3s 115us/step - loss: 0.0758 - acc: 0.9768 - val_loss: 0.3470 - val_acc: 0.8820\n",
      "Epoch 10/20\n",
      "24000/24000 [==============================] - 3s 114us/step - loss: 0.0645 - acc: 0.9802 - val_loss: 0.3665 - val_acc: 0.8840\n",
      "Epoch 11/20\n",
      "24000/24000 [==============================] - 3s 116us/step - loss: 0.0542 - acc: 0.9841 - val_loss: 0.4130 - val_acc: 0.8800\n",
      "Epoch 12/20\n",
      "24000/24000 [==============================] - 3s 114us/step - loss: 0.0444 - acc: 0.9878 - val_loss: 0.4561 - val_acc: 0.8720\n",
      "Epoch 13/20\n",
      "24000/24000 [==============================] - 3s 114us/step - loss: 0.0362 - acc: 0.9906 - val_loss: 0.4574 - val_acc: 0.8810\n",
      "Epoch 14/20\n",
      "24000/24000 [==============================] - 3s 115us/step - loss: 0.0280 - acc: 0.9933 - val_loss: 0.4979 - val_acc: 0.8740\n",
      "Epoch 15/20\n",
      "24000/24000 [==============================] - 3s 117us/step - loss: 0.0219 - acc: 0.9952 - val_loss: 0.5182 - val_acc: 0.8810\n",
      "Epoch 16/20\n",
      "24000/24000 [==============================] - 3s 117us/step - loss: 0.0181 - acc: 0.9960 - val_loss: 0.5756 - val_acc: 0.8720\n",
      "Epoch 17/20\n",
      "24000/24000 [==============================] - 3s 115us/step - loss: 0.0132 - acc: 0.9973 - val_loss: 0.5769 - val_acc: 0.8720\n",
      "Epoch 18/20\n",
      "24000/24000 [==============================] - 3s 116us/step - loss: 0.0105 - acc: 0.9978 - val_loss: 0.6211 - val_acc: 0.8720\n",
      "Epoch 19/20\n",
      "24000/24000 [==============================] - 3s 117us/step - loss: 0.0085 - acc: 0.9985 - val_loss: 0.6712 - val_acc: 0.8650\n",
      "Epoch 20/20\n",
      "24000/24000 [==============================] - 3s 117us/step - loss: 0.0072 - acc: 0.9985 - val_loss: 0.6992 - val_acc: 0.8720\n"
     ]
    }
   ],
   "source": [
    "training = my_model.fit(partial_x_data,\n",
    "                        partial_y_labels,\n",
    "                        epochs = 20,\n",
    "                        batch_size = 512,\n",
    "                        validation_data=(x_data,y_labels))"
   ]
  },
  {
   "cell_type": "code",
   "execution_count": 33,
   "metadata": {
    "colab": {
     "base_uri": "https://localhost:8080/",
     "height": 34
    },
    "colab_type": "code",
    "executionInfo": {
     "elapsed": 825,
     "status": "ok",
     "timestamp": 1562506197817,
     "user": {
      "displayName": "Muhammad Awais Saleem Memon",
      "photoUrl": "https://lh6.googleusercontent.com/-EfR3xGC-btQ/AAAAAAAAAAI/AAAAAAAAGPU/E7x558Cz854/s64/photo.jpg",
      "userId": "05252819895099812871"
     },
     "user_tz": -300
    },
    "id": "puGO_mjzdIb_",
    "outputId": "d9258ca6-776c-4457-c787-5755fdf093d6"
   },
   "outputs": [
    {
     "data": {
      "text/plain": [
       "dict_keys(['val_loss', 'val_acc', 'loss', 'acc'])"
      ]
     },
     "execution_count": 33,
     "metadata": {
      "tags": []
     },
     "output_type": "execute_result"
    }
   ],
   "source": [
    "history_dictionary = training.history\n",
    "history_dictionary.keys()"
   ]
  },
  {
   "cell_type": "code",
   "execution_count": 47,
   "metadata": {
    "colab": {
     "base_uri": "https://localhost:8080/",
     "height": 34
    },
    "colab_type": "code",
    "executionInfo": {
     "elapsed": 866,
     "status": "ok",
     "timestamp": 1562506473175,
     "user": {
      "displayName": "Muhammad Awais Saleem Memon",
      "photoUrl": "https://lh6.googleusercontent.com/-EfR3xGC-btQ/AAAAAAAAAAI/AAAAAAAAGPU/E7x558Cz854/s64/photo.jpg",
      "userId": "05252819895099812871"
     },
     "user_tz": -300
    },
    "id": "OQbePU8doS_D",
    "outputId": "3a0f98bf-e389-49b1-d5ae-336bff56bdfc"
   },
   "outputs": [
    {
     "data": {
      "text/plain": [
       "0.6711619033813476"
      ]
     },
     "execution_count": 47,
     "metadata": {
      "tags": []
     },
     "output_type": "execute_result"
    }
   ],
   "source": [
    "a = history_dictionary['val_loss']\n",
    "np.argmin(history_dictionary['val_acc'])\n",
    "\n",
    "a[18]"
   ]
  },
  {
   "cell_type": "code",
   "execution_count": 0,
   "metadata": {
    "colab": {},
    "colab_type": "code",
    "id": "jNOj1dt8fUHb"
   },
   "outputs": [],
   "source": [
    "import matplotlib.pyplot as plt"
   ]
  },
  {
   "cell_type": "code",
   "execution_count": 0,
   "metadata": {
    "colab": {},
    "colab_type": "code",
    "id": "YtxTt7lWgz3J"
   },
   "outputs": [],
   "source": [
    "loss_values = history_dictionary['loss']"
   ]
  },
  {
   "cell_type": "code",
   "execution_count": 0,
   "metadata": {
    "colab": {},
    "colab_type": "code",
    "id": "kK7ju2KZjqyu"
   },
   "outputs": [],
   "source": [
    "accuracy = history_dictionary['acc']"
   ]
  },
  {
   "cell_type": "code",
   "execution_count": 0,
   "metadata": {
    "colab": {},
    "colab_type": "code",
    "id": "tWhAd_Rag-ID"
   },
   "outputs": [],
   "source": [
    "validation_loss_values = history_dictionary['val_loss']"
   ]
  },
  {
   "cell_type": "code",
   "execution_count": 0,
   "metadata": {
    "colab": {},
    "colab_type": "code",
    "id": "RmZ9X07Ej1lX"
   },
   "outputs": [],
   "source": [
    "validation_accuracy = history_dictionary['val_acc']"
   ]
  },
  {
   "cell_type": "code",
   "execution_count": 0,
   "metadata": {
    "colab": {},
    "colab_type": "code",
    "id": "kcK8VVtAhJl8"
   },
   "outputs": [],
   "source": [
    "epochs = range(1, len(history_dictionary['val_acc'])+1)"
   ]
  },
  {
   "cell_type": "code",
   "execution_count": 51,
   "metadata": {
    "colab": {
     "base_uri": "https://localhost:8080/",
     "height": 295
    },
    "colab_type": "code",
    "executionInfo": {
     "elapsed": 1088,
     "status": "ok",
     "timestamp": 1562506635128,
     "user": {
      "displayName": "Muhammad Awais Saleem Memon",
      "photoUrl": "https://lh6.googleusercontent.com/-EfR3xGC-btQ/AAAAAAAAAAI/AAAAAAAAGPU/E7x558Cz854/s64/photo.jpg",
      "userId": "05252819895099812871"
     },
     "user_tz": -300
    },
    "id": "wOvmyz7chXcA",
    "outputId": "8fa755c1-8660-4c4f-e225-57739705074c"
   },
   "outputs": [
    {
     "data": {
      "image/png": "[encoded data removed]",
      "text/plain": [
       "<Figure size 432x288 with 1 Axes>"
      ]
     },
     "metadata": {
      "tags": []
     },
     "output_type": "display_data"
    }
   ],
   "source": [
    "plt.plot(epochs, loss_values, 'bo', label='Training Loss')\n",
    "plt.plot(epochs, validation_loss_values, 'b', label='Validation Loss')\n",
    "#plt.plot(epochs, validation_accuracy, 'c', label='Validation Acc')\n",
    "plt.title('Training and validation loss')\n",
    "plt.ylabel(\"Losses\")\n",
    "plt.xlabel('Epochs')\n",
    "plt.legend()\n",
    "plt.show()"
   ]
  },
  {
   "cell_type": "code",
   "execution_count": 52,
   "metadata": {
    "colab": {
     "base_uri": "https://localhost:8080/",
     "height": 281
    },
    "colab_type": "code",
    "executionInfo": {
     "elapsed": 1080,
     "status": "ok",
     "timestamp": 1562506637634,
     "user": {
      "displayName": "Muhammad Awais Saleem Memon",
      "photoUrl": "https://lh6.googleusercontent.com/-EfR3xGC-btQ/AAAAAAAAAAI/AAAAAAAAGPU/E7x558Cz854/s64/photo.jpg",
      "userId": "05252819895099812871"
     },
     "user_tz": -300
    },
    "id": "969LThmEhYXC",
    "outputId": "352177cf-9e5f-4f86-b084-4c9acdf45ffa"
   },
   "outputs": [
    {
     "data": {
      "image/png": "[encoded data removed]",
      "text/plain": [
       "<Figure size 432x288 with 1 Axes>"
      ]
     },
     "metadata": {
      "tags": []
     },
     "output_type": "display_data"
    }
   ],
   "source": [
    "plt.plot(epochs, accuracy, 'bo', label='Training Accuracy')\n",
    "plt.plot(epochs, validation_accuracy, 'b', label='Validation Accuracy')\n",
    "plt.title('Training and validation Accuracy')\n",
    "plt.ylabel(\"Accuracy\")\n",
    "#plt.xlabel('Epochs')\n",
    "plt.legend()\n",
    "plt.show()"
   ]
  },
  {
   "cell_type": "code",
   "execution_count": 0,
   "metadata": {
    "colab": {},
    "colab_type": "code",
    "id": "44nuouuEjj2r"
   },
   "outputs": [],
   "source": []
  },
  {
   "cell_type": "markdown",
   "metadata": {
    "colab_type": "text",
    "id": "MvaKQCRVqstF"
   },
   "source": [
    "# Retraining model from scratch by making amendments"
   ]
  },
  {
   "cell_type": "code",
   "execution_count": 0,
   "metadata": {
    "colab": {},
    "colab_type": "code",
    "id": "agFjAf8Oq0yd"
   },
   "outputs": [],
   "source": [
    "my_model2 = models.Sequential()\n",
    "my_model2.add(layers.Dense(16, activation='relu', input_shape=(10000,)))\n",
    "my_model2.add(layers.Dense(16, activation='relu'))\n",
    "my_model2.add(layers.Dense(1, activation='sigmoid'))"
   ]
  },
  {
   "cell_type": "code",
   "execution_count": 0,
   "metadata": {
    "colab": {},
    "colab_type": "code",
    "id": "thlNwJ7iq4NE"
   },
   "outputs": [],
   "source": [
    "my_model2.compile(loss='binary_crossentropy',\n",
    "                optimizer='RMSprop',\n",
    "                metrics=['accuracy'])"
   ]
  },
  {
   "cell_type": "code",
   "execution_count": 59,
   "metadata": {
    "colab": {
     "base_uri": "https://localhost:8080/",
     "height": 170
    },
    "colab_type": "code",
    "executionInfo": {
     "elapsed": 12865,
     "status": "ok",
     "timestamp": 1562507236218,
     "user": {
      "displayName": "Muhammad Awais Saleem Memon",
      "photoUrl": "https://lh6.googleusercontent.com/-EfR3xGC-btQ/AAAAAAAAAAI/AAAAAAAAGPU/E7x558Cz854/s64/photo.jpg",
      "userId": "05252819895099812871"
     },
     "user_tz": -300
    },
    "id": "VLH36EAMrPEO",
    "outputId": "0aadb880-6c06-4b21-cd9f-373244f68d61"
   },
   "outputs": [
    {
     "name": "stdout",
     "output_type": "stream",
     "text": [
      "Train on 24000 samples, validate on 1000 samples\n",
      "Epoch 1/4\n",
      "24000/24000 [==============================] - 3s 113us/step - loss: 0.0766 - acc: 0.9751 - val_loss: 0.3931 - val_acc: 0.8850\n",
      "Epoch 2/4\n",
      "24000/24000 [==============================] - 3s 114us/step - loss: 0.0658 - acc: 0.9788 - val_loss: 0.4039 - val_acc: 0.8800\n",
      "Epoch 3/4\n",
      "24000/24000 [==============================] - 3s 113us/step - loss: 0.0614 - acc: 0.9803 - val_loss: 0.4405 - val_acc: 0.8740\n",
      "Epoch 4/4\n",
      "24000/24000 [==============================] - 3s 112us/step - loss: 0.0528 - acc: 0.9832 - val_loss: 0.4563 - val_acc: 0.8750\n"
     ]
    }
   ],
   "source": [
    "training2 = my_model2.fit(partial_x_data,\n",
    "                        partial_y_labels,\n",
    "                        epochs = 4,\n",
    "                        batch_size = 512,\n",
    "                        validation_data=(x_data,y_labels))"
   ]
  },
  {
   "cell_type": "code",
   "execution_count": 60,
   "metadata": {
    "colab": {
     "base_uri": "https://localhost:8080/",
     "height": 34
    },
    "colab_type": "code",
    "executionInfo": {
     "elapsed": 2561,
     "status": "ok",
     "timestamp": 1562507382344,
     "user": {
      "displayName": "Muhammad Awais Saleem Memon",
      "photoUrl": "https://lh6.googleusercontent.com/-EfR3xGC-btQ/AAAAAAAAAAI/AAAAAAAAGPU/E7x558Cz854/s64/photo.jpg",
      "userId": "05252819895099812871"
     },
     "user_tz": -300
    },
    "id": "lf0ZYW2drnqr",
    "outputId": "82539c25-bd94-48be-e1c5-efa03056fea9"
   },
   "outputs": [
    {
     "name": "stdout",
     "output_type": "stream",
     "text": [
      "25000/25000 [==============================] - 2s 77us/step\n"
     ]
    }
   ],
   "source": [
    "test = my_model2.evaluate(x_test,y_test)"
   ]
  },
  {
   "cell_type": "code",
   "execution_count": 63,
   "metadata": {
    "colab": {
     "base_uri": "https://localhost:8080/",
     "height": 34
    },
    "colab_type": "code",
    "executionInfo": {
     "elapsed": 797,
     "status": "ok",
     "timestamp": 1562507649547,
     "user": {
      "displayName": "Muhammad Awais Saleem Memon",
      "photoUrl": "https://lh6.googleusercontent.com/-EfR3xGC-btQ/AAAAAAAAAAI/AAAAAAAAGPU/E7x558Cz854/s64/photo.jpg",
      "userId": "05252819895099812871"
     },
     "user_tz": -300
    },
    "id": "0mpwkll-soPl",
    "outputId": "3188fcd5-d932-45b7-da28-5467dba58399"
   },
   "outputs": [
    {
     "data": {
      "text/plain": [
       "[0.5529531294345855, 0.85516]"
      ]
     },
     "execution_count": 63,
     "metadata": {
      "tags": []
     },
     "output_type": "execute_result"
    }
   ],
   "source": [
    "test"
   ]
  },
  {
   "cell_type": "code",
   "execution_count": 64,
   "metadata": {
    "colab": {
     "base_uri": "https://localhost:8080/",
     "height": 136
    },
    "colab_type": "code",
    "executionInfo": {
     "elapsed": 2447,
     "status": "ok",
     "timestamp": 1562507937276,
     "user": {
      "displayName": "Muhammad Awais Saleem Memon",
      "photoUrl": "https://lh6.googleusercontent.com/-EfR3xGC-btQ/AAAAAAAAAAI/AAAAAAAAGPU/E7x558Cz854/s64/photo.jpg",
      "userId": "05252819895099812871"
     },
     "user_tz": -300
    },
    "id": "HvvDcFuptE1Y",
    "outputId": "17d30a41-dce8-41f9-8884-4f659b0f6765"
   },
   "outputs": [
    {
     "data": {
      "text/plain": [
       "array([[0.03490871],\n",
       "       [0.9999999 ],\n",
       "       [0.19054702],\n",
       "       ...,\n",
       "       [0.0631392 ],\n",
       "       [0.00971305],\n",
       "       [0.7517315 ]], dtype=float32)"
      ]
     },
     "execution_count": 64,
     "metadata": {
      "tags": []
     },
     "output_type": "execute_result"
    }
   ],
   "source": [
    "my_model2.predict(x_test)"
   ]
  },
  {
   "cell_type": "code",
   "execution_count": 0,
   "metadata": {
    "colab": {},
    "colab_type": "code",
    "id": "p009s0iwuvvW"
   },
   "outputs": [],
   "source": []
  },
  {
   "cell_type": "markdown",
   "metadata": {
    "colab_type": "text",
    "id": "zABfpRuNviVG"
   },
   "source": [
    "# Further experiments"
   ]
  },
  {
   "cell_type": "markdown",
   "metadata": {
    "colab_type": "text",
    "id": "N1EqEx2fvlsb"
   },
   "source": [
    "#  Model with one layer"
   ]
  },
  {
   "cell_type": "code",
   "execution_count": 0,
   "metadata": {
    "colab": {},
    "colab_type": "code",
    "id": "9dXJ7L3Cvrcg"
   },
   "outputs": [],
   "source": [
    "my_model3 = models.Sequential()\n",
    "my_model3.add(layers.Dense(16, activation='relu', input_shape=(10000,)))\n",
    "my_model3.add(layers.Dense(1, activation='sigmoid'))"
   ]
  },
  {
   "cell_type": "code",
   "execution_count": 0,
   "metadata": {
    "colab": {},
    "colab_type": "code",
    "id": "zojiWXTQv5Kp"
   },
   "outputs": [],
   "source": [
    "my_model3.compile(loss='binary_crossentropy',\n",
    "                optimizer='RMSprop',\n",
    "                metrics=['accuracy'])"
   ]
  },
  {
   "cell_type": "code",
   "execution_count": 85,
   "metadata": {
    "colab": {
     "base_uri": "https://localhost:8080/",
     "height": 238
    },
    "colab_type": "code",
    "executionInfo": {
     "elapsed": 18199,
     "status": "ok",
     "timestamp": 1562509008997,
     "user": {
      "displayName": "Muhammad Awais Saleem Memon",
      "photoUrl": "https://lh6.googleusercontent.com/-EfR3xGC-btQ/AAAAAAAAAAI/AAAAAAAAGPU/E7x558Cz854/s64/photo.jpg",
      "userId": "05252819895099812871"
     },
     "user_tz": -300
    },
    "id": "-L9jWfEVwHw4",
    "outputId": "551e3a2b-01c1-4788-c186-9c484155a493"
   },
   "outputs": [
    {
     "name": "stdout",
     "output_type": "stream",
     "text": [
      "Train on 24000 samples, validate on 1000 samples\n",
      "Epoch 1/6\n",
      "24000/24000 [==============================] - 3s 141us/step - loss: 0.4432 - acc: 0.8292 - val_loss: 0.3300 - val_acc: 0.8820\n",
      "Epoch 2/6\n",
      "24000/24000 [==============================] - 3s 116us/step - loss: 0.2757 - acc: 0.9075 - val_loss: 0.2710 - val_acc: 0.8890\n",
      "Epoch 3/6\n",
      "24000/24000 [==============================] - 3s 116us/step - loss: 0.2189 - acc: 0.9235 - val_loss: 0.2565 - val_acc: 0.8920\n",
      "Epoch 4/6\n",
      "24000/24000 [==============================] - 3s 117us/step - loss: 0.1873 - acc: 0.9354 - val_loss: 0.2568 - val_acc: 0.8860\n",
      "Epoch 5/6\n",
      "24000/24000 [==============================] - 3s 116us/step - loss: 0.1645 - acc: 0.9451 - val_loss: 0.2480 - val_acc: 0.8870\n",
      "Epoch 6/6\n",
      "24000/24000 [==============================] - 3s 116us/step - loss: 0.1466 - acc: 0.9523 - val_loss: 0.2611 - val_acc: 0.8900\n"
     ]
    }
   ],
   "source": [
    "training3 = my_model3.fit(partial_x_data,\n",
    "                        partial_y_labels,\n",
    "                        epochs = 6,\n",
    "                        batch_size = 512,\n",
    "                        validation_data=(x_data,y_labels))"
   ]
  },
  {
   "cell_type": "code",
   "execution_count": 86,
   "metadata": {
    "colab": {
     "base_uri": "https://localhost:8080/",
     "height": 34
    },
    "colab_type": "code",
    "executionInfo": {
     "elapsed": 2832,
     "status": "ok",
     "timestamp": 1562509038765,
     "user": {
      "displayName": "Muhammad Awais Saleem Memon",
      "photoUrl": "https://lh6.googleusercontent.com/-EfR3xGC-btQ/AAAAAAAAAAI/AAAAAAAAGPU/E7x558Cz854/s64/photo.jpg",
      "userId": "05252819895099812871"
     },
     "user_tz": -300
    },
    "id": "bXqgzFfAwRM2",
    "outputId": "371045a9-8147-4ed1-db44-6f78cf7d92e6"
   },
   "outputs": [
    {
     "name": "stdout",
     "output_type": "stream",
     "text": [
      "25000/25000 [==============================] - 2s 85us/step\n"
     ]
    }
   ],
   "source": [
    "test3 = my_model3.evaluate(x_test,y_test)"
   ]
  },
  {
   "cell_type": "code",
   "execution_count": 87,
   "metadata": {
    "colab": {
     "base_uri": "https://localhost:8080/",
     "height": 34
    },
    "colab_type": "code",
    "executionInfo": {
     "elapsed": 848,
     "status": "ok",
     "timestamp": 1562509038767,
     "user": {
      "displayName": "Muhammad Awais Saleem Memon",
      "photoUrl": "https://lh6.googleusercontent.com/-EfR3xGC-btQ/AAAAAAAAAAI/AAAAAAAAGPU/E7x558Cz854/s64/photo.jpg",
      "userId": "05252819895099812871"
     },
     "user_tz": -300
    },
    "id": "gLkAw8Lcxzmj",
    "outputId": "3caa0c77-1019-47ec-cbaa-c10aeaef46af"
   },
   "outputs": [
    {
     "data": {
      "text/plain": [
       "[0.30548579089164735, 0.87816]"
      ]
     },
     "execution_count": 87,
     "metadata": {
      "tags": []
     },
     "output_type": "execute_result"
    }
   ],
   "source": [
    "test3"
   ]
  },
  {
   "cell_type": "code",
   "execution_count": 0,
   "metadata": {
    "colab": {},
    "colab_type": "code",
    "id": "unG0c8hrylHi"
   },
   "outputs": [],
   "source": []
  },
  {
   "cell_type": "markdown",
   "metadata": {
    "colab_type": "text",
    "id": "Dr4nFe9iyn1Q"
   },
   "source": [
    "# Model with three layers"
   ]
  },
  {
   "cell_type": "code",
   "execution_count": 0,
   "metadata": {
    "colab": {},
    "colab_type": "code",
    "id": "zAXLdbvGyrQd"
   },
   "outputs": [],
   "source": [
    "my_model4 = models.Sequential()\n",
    "my_model4.add(layers.Dense(16, activation='relu', input_shape=(10000,)))\n",
    "my_model4.add(layers.Dense(16, activation='relu'))\n",
    "my_model4.add(layers.Dense(16, activation='relu'))\n",
    "my_model4.add(layers.Dense(1, activation='sigmoid'))"
   ]
  },
  {
   "cell_type": "code",
   "execution_count": 0,
   "metadata": {
    "colab": {},
    "colab_type": "code",
    "id": "_pqhwukjzASD"
   },
   "outputs": [],
   "source": [
    "my_model4.compile(loss='binary_crossentropy',\n",
    "                optimizer='RMSprop',\n",
    "                metrics=['accuracy'])"
   ]
  },
  {
   "cell_type": "code",
   "execution_count": 90,
   "metadata": {
    "colab": {
     "base_uri": "https://localhost:8080/",
     "height": 204
    },
    "colab_type": "code",
    "executionInfo": {
     "elapsed": 15987,
     "status": "ok",
     "timestamp": 1562509106662,
     "user": {
      "displayName": "Muhammad Awais Saleem Memon",
      "photoUrl": "https://lh6.googleusercontent.com/-EfR3xGC-btQ/AAAAAAAAAAI/AAAAAAAAGPU/E7x558Cz854/s64/photo.jpg",
      "userId": "05252819895099812871"
     },
     "user_tz": -300
    },
    "id": "wO6otIfGzEyD",
    "outputId": "27010a05-5fec-4a82-d034-232456dce624"
   },
   "outputs": [
    {
     "name": "stdout",
     "output_type": "stream",
     "text": [
      "Train on 24000 samples, validate on 1000 samples\n",
      "Epoch 1/5\n",
      "24000/24000 [==============================] - 3s 144us/step - loss: 0.4603 - acc: 0.8096 - val_loss: 0.3138 - val_acc: 0.8720\n",
      "Epoch 2/5\n",
      "24000/24000 [==============================] - 3s 114us/step - loss: 0.2545 - acc: 0.9083 - val_loss: 0.3235 - val_acc: 0.8780\n",
      "Epoch 3/5\n",
      "24000/24000 [==============================] - 3s 118us/step - loss: 0.1932 - acc: 0.9300 - val_loss: 0.2594 - val_acc: 0.8880\n",
      "Epoch 4/5\n",
      "24000/24000 [==============================] - 3s 115us/step - loss: 0.1613 - acc: 0.9411 - val_loss: 0.2668 - val_acc: 0.8890\n",
      "Epoch 5/5\n",
      "24000/24000 [==============================] - 3s 114us/step - loss: 0.1370 - acc: 0.9505 - val_loss: 0.2851 - val_acc: 0.8860\n"
     ]
    }
   ],
   "source": [
    "training4 = my_model4.fit(partial_x_data,\n",
    "                        partial_y_labels,\n",
    "                        epochs = 5,\n",
    "                        batch_size = 512,\n",
    "                        validation_data=(x_data,y_labels))"
   ]
  },
  {
   "cell_type": "code",
   "execution_count": 91,
   "metadata": {
    "colab": {
     "base_uri": "https://localhost:8080/",
     "height": 34
    },
    "colab_type": "code",
    "executionInfo": {
     "elapsed": 2648,
     "status": "ok",
     "timestamp": 1562509131720,
     "user": {
      "displayName": "Muhammad Awais Saleem Memon",
      "photoUrl": "https://lh6.googleusercontent.com/-EfR3xGC-btQ/AAAAAAAAAAI/AAAAAAAAGPU/E7x558Cz854/s64/photo.jpg",
      "userId": "05252819895099812871"
     },
     "user_tz": -300
    },
    "id": "YPmWIn2jzJ8k",
    "outputId": "2d081517-3da9-4ff4-cb5b-f466c0616d80"
   },
   "outputs": [
    {
     "name": "stdout",
     "output_type": "stream",
     "text": [
      "25000/25000 [==============================] - 2s 85us/step\n"
     ]
    }
   ],
   "source": [
    "test4 = my_model4.evaluate(x_test,y_test)"
   ]
  },
  {
   "cell_type": "code",
   "execution_count": 92,
   "metadata": {
    "colab": {
     "base_uri": "https://localhost:8080/",
     "height": 34
    },
    "colab_type": "code",
    "executionInfo": {
     "elapsed": 769,
     "status": "ok",
     "timestamp": 1562509137352,
     "user": {
      "displayName": "Muhammad Awais Saleem Memon",
      "photoUrl": "https://lh6.googleusercontent.com/-EfR3xGC-btQ/AAAAAAAAAAI/AAAAAAAAGPU/E7x558Cz854/s64/photo.jpg",
      "userId": "05252819895099812871"
     },
     "user_tz": -300
    },
    "id": "g-4mfA4qzTUV",
    "outputId": "7076d61d-4802-47f8-f572-468e57d1dc61"
   },
   "outputs": [
    {
     "data": {
      "text/plain": [
       "[0.33016703439712525, 0.87848]"
      ]
     },
     "execution_count": 92,
     "metadata": {
      "tags": []
     },
     "output_type": "execute_result"
    }
   ],
   "source": [
    "test4"
   ]
  },
  {
   "cell_type": "code",
   "execution_count": 0,
   "metadata": {
    "colab": {},
    "colab_type": "code",
    "id": "pn7dG8bgzVJx"
   },
   "outputs": [],
   "source": []
  },
  {
   "cell_type": "markdown",
   "metadata": {
    "colab_type": "text",
    "id": "NBidgda1zefH"
   },
   "source": [
    "# Model with 32 units"
   ]
  },
  {
   "cell_type": "code",
   "execution_count": 0,
   "metadata": {
    "colab": {},
    "colab_type": "code",
    "id": "pyOHOixlznHQ"
   },
   "outputs": [],
   "source": [
    "my_model5 = models.Sequential()\n",
    "my_model5.add(layers.Dense(32, activation='relu', input_shape=(10000,)))\n",
    "my_model5.add(layers.Dense(32, activation='relu'))\n",
    "my_model5.add(layers.Dense(1, activation='sigmoid'))"
   ]
  },
  {
   "cell_type": "code",
   "execution_count": 0,
   "metadata": {
    "colab": {},
    "colab_type": "code",
    "id": "B8EGcF8WzuNW"
   },
   "outputs": [],
   "source": [
    "my_model5.compile(loss='binary_crossentropy',\n",
    "                optimizer='RMSprop',\n",
    "                metrics=['accuracy'])"
   ]
  },
  {
   "cell_type": "code",
   "execution_count": 98,
   "metadata": {
    "colab": {
     "base_uri": "https://localhost:8080/",
     "height": 374
    },
    "colab_type": "code",
    "executionInfo": {
     "elapsed": 31813,
     "status": "ok",
     "timestamp": 1562509340989,
     "user": {
      "displayName": "Muhammad Awais Saleem Memon",
      "photoUrl": "https://lh6.googleusercontent.com/-EfR3xGC-btQ/AAAAAAAAAAI/AAAAAAAAGPU/E7x558Cz854/s64/photo.jpg",
      "userId": "05252819895099812871"
     },
     "user_tz": -300
    },
    "id": "wSdQ9gjPzzld",
    "outputId": "7b1eaa61-7bb5-4ef0-d3a3-ee4574a386f1"
   },
   "outputs": [
    {
     "name": "stdout",
     "output_type": "stream",
     "text": [
      "Train on 24000 samples, validate on 1000 samples\n",
      "Epoch 1/10\n",
      "24000/24000 [==============================] - 4s 153us/step - loss: 0.4341 - acc: 0.8178 - val_loss: 0.3218 - val_acc: 0.8740\n",
      "Epoch 2/10\n",
      "24000/24000 [==============================] - 3s 124us/step - loss: 0.2440 - acc: 0.9122 - val_loss: 0.2536 - val_acc: 0.8850\n",
      "Epoch 3/10\n",
      "24000/24000 [==============================] - 3s 126us/step - loss: 0.1888 - acc: 0.9306 - val_loss: 0.2549 - val_acc: 0.8920\n",
      "Epoch 4/10\n",
      "24000/24000 [==============================] - 3s 125us/step - loss: 0.1596 - acc: 0.9419 - val_loss: 0.2680 - val_acc: 0.8920\n",
      "Epoch 5/10\n",
      "24000/24000 [==============================] - 3s 125us/step - loss: 0.1293 - acc: 0.9550 - val_loss: 0.3143 - val_acc: 0.8790\n",
      "Epoch 6/10\n",
      "24000/24000 [==============================] - 3s 124us/step - loss: 0.1126 - acc: 0.9606 - val_loss: 0.3089 - val_acc: 0.8850\n",
      "Epoch 7/10\n",
      "24000/24000 [==============================] - 3s 126us/step - loss: 0.0905 - acc: 0.9707 - val_loss: 0.3311 - val_acc: 0.8780\n",
      "Epoch 8/10\n",
      "24000/24000 [==============================] - 3s 126us/step - loss: 0.0763 - acc: 0.9750 - val_loss: 0.3595 - val_acc: 0.8890\n",
      "Epoch 9/10\n",
      "24000/24000 [==============================] - 3s 126us/step - loss: 0.0614 - acc: 0.9813 - val_loss: 0.3879 - val_acc: 0.8820\n",
      "Epoch 10/10\n",
      "24000/24000 [==============================] - 3s 127us/step - loss: 0.0487 - acc: 0.9857 - val_loss: 0.4168 - val_acc: 0.8800\n"
     ]
    }
   ],
   "source": [
    "training5 = my_model5.fit(partial_x_data,\n",
    "                        partial_y_labels,\n",
    "                        epochs = 10,\n",
    "                        batch_size = 512,\n",
    "                        validation_data=(x_data,y_labels))"
   ]
  },
  {
   "cell_type": "code",
   "execution_count": 0,
   "metadata": {
    "colab": {},
    "colab_type": "code",
    "id": "65jSkJKTz3P6"
   },
   "outputs": [],
   "source": [
    "results = training5.history"
   ]
  },
  {
   "cell_type": "code",
   "execution_count": 131,
   "metadata": {
    "colab": {
     "base_uri": "https://localhost:8080/",
     "height": 51
    },
    "colab_type": "code",
    "executionInfo": {
     "elapsed": 967,
     "status": "ok",
     "timestamp": 1562509852806,
     "user": {
      "displayName": "Muhammad Awais Saleem Memon",
      "photoUrl": "https://lh6.googleusercontent.com/-EfR3xGC-btQ/AAAAAAAAAAI/AAAAAAAAGPU/E7x558Cz854/s64/photo.jpg",
      "userId": "05252819895099812871"
     },
     "user_tz": -300
    },
    "id": "Och8JyZ-0PeX",
    "outputId": "2418b079-9692-42ac-f114-cc16babe2eef"
   },
   "outputs": [
    {
     "name": "stdout",
     "output_type": "stream",
     "text": [
      "2\n"
     ]
    },
    {
     "data": {
      "text/plain": [
       "0.892"
      ]
     },
     "execution_count": 131,
     "metadata": {
      "tags": []
     },
     "output_type": "execute_result"
    }
   ],
   "source": [
    "a = results['val_acc']\n",
    "print(np.argmax(a))\n",
    "b = np.max(results['val_acc'])\n",
    "b"
   ]
  },
  {
   "cell_type": "code",
   "execution_count": 132,
   "metadata": {
    "colab": {
     "base_uri": "https://localhost:8080/",
     "height": 51
    },
    "colab_type": "code",
    "executionInfo": {
     "elapsed": 1054,
     "status": "ok",
     "timestamp": 1562509877073,
     "user": {
      "displayName": "Muhammad Awais Saleem Memon",
      "photoUrl": "https://lh6.googleusercontent.com/-EfR3xGC-btQ/AAAAAAAAAAI/AAAAAAAAGPU/E7x558Cz854/s64/photo.jpg",
      "userId": "05252819895099812871"
     },
     "user_tz": -300
    },
    "id": "lBTxwsWm0YRM",
    "outputId": "aff9a9ef-6027-4d1f-f046-91f58c0321bc"
   },
   "outputs": [
    {
     "name": "stdout",
     "output_type": "stream",
     "text": [
      "0\n"
     ]
    },
    {
     "data": {
      "text/plain": [
       "0.8740000047683716"
      ]
     },
     "execution_count": 132,
     "metadata": {
      "tags": []
     },
     "output_type": "execute_result"
    }
   ],
   "source": [
    "aa = results['val_acc']\n",
    "print(np.argmin(aa))\n",
    "bb = np.min(results['val_acc'])\n",
    "bb"
   ]
  },
  {
   "cell_type": "code",
   "execution_count": 0,
   "metadata": {
    "colab": {},
    "colab_type": "code",
    "id": "VhWZ-gbG08hM"
   },
   "outputs": [],
   "source": []
  },
  {
   "cell_type": "markdown",
   "metadata": {
    "colab_type": "text",
    "id": "VokSNfoC2U-m"
   },
   "source": [
    "# Model with 64 units"
   ]
  },
  {
   "cell_type": "code",
   "execution_count": 0,
   "metadata": {
    "colab": {},
    "colab_type": "code",
    "id": "eK6lg0w22Xrr"
   },
   "outputs": [],
   "source": [
    "my_model6 = models.Sequential()\n",
    "my_model6.add(layers.Dense(64, activation='relu', input_shape=(10000,)))\n",
    "my_model6.add(layers.Dense(64, activation='relu'))\n",
    "my_model6.add(layers.Dense(1, activation='sigmoid'))"
   ]
  },
  {
   "cell_type": "code",
   "execution_count": 0,
   "metadata": {
    "colab": {},
    "colab_type": "code",
    "id": "ELuYiX1L2ge1"
   },
   "outputs": [],
   "source": [
    "my_model6.compile(loss='binary_crossentropy',\n",
    "                optimizer='RMSprop',\n",
    "                metrics=['accuracy'])"
   ]
  },
  {
   "cell_type": "code",
   "execution_count": 137,
   "metadata": {
    "colab": {
     "base_uri": "https://localhost:8080/",
     "height": 374
    },
    "colab_type": "code",
    "executionInfo": {
     "elapsed": 35446,
     "status": "ok",
     "timestamp": 1562510150259,
     "user": {
      "displayName": "Muhammad Awais Saleem Memon",
      "photoUrl": "https://lh6.googleusercontent.com/-EfR3xGC-btQ/AAAAAAAAAAI/AAAAAAAAGPU/E7x558Cz854/s64/photo.jpg",
      "userId": "05252819895099812871"
     },
     "user_tz": -300
    },
    "id": "3Lnm-VpN2lc5",
    "outputId": "56ee5769-9d6d-46a6-9d16-bad8774d8eb7"
   },
   "outputs": [
    {
     "name": "stdout",
     "output_type": "stream",
     "text": [
      "Train on 24000 samples, validate on 1000 samples\n",
      "Epoch 1/10\n",
      "24000/24000 [==============================] - 4s 147us/step - loss: 0.0690 - acc: 0.9773 - val_loss: 0.3445 - val_acc: 0.8860\n",
      "Epoch 2/10\n",
      "24000/24000 [==============================] - 3s 144us/step - loss: 0.0520 - acc: 0.9838 - val_loss: 0.3939 - val_acc: 0.8880\n",
      "Epoch 3/10\n",
      "24000/24000 [==============================] - 3s 145us/step - loss: 0.0352 - acc: 0.9900 - val_loss: 0.5866 - val_acc: 0.8670\n",
      "Epoch 4/10\n",
      "24000/24000 [==============================] - 3s 146us/step - loss: 0.0330 - acc: 0.9894 - val_loss: 0.4458 - val_acc: 0.8810\n",
      "Epoch 5/10\n",
      "24000/24000 [==============================] - 3s 143us/step - loss: 0.0253 - acc: 0.9933 - val_loss: 0.4792 - val_acc: 0.8890\n",
      "Epoch 6/10\n",
      "24000/24000 [==============================] - 3s 144us/step - loss: 0.0048 - acc: 0.9995 - val_loss: 0.6076 - val_acc: 0.8680\n",
      "Epoch 7/10\n",
      "24000/24000 [==============================] - 3s 146us/step - loss: 0.0182 - acc: 0.9944 - val_loss: 0.5795 - val_acc: 0.8770\n",
      "Epoch 8/10\n",
      "24000/24000 [==============================] - 3s 145us/step - loss: 0.0227 - acc: 0.9942 - val_loss: 0.5896 - val_acc: 0.8790\n",
      "Epoch 9/10\n",
      "24000/24000 [==============================] - 3s 142us/step - loss: 0.0012 - acc: 1.0000 - val_loss: 0.6313 - val_acc: 0.8870\n",
      "Epoch 10/10\n",
      "24000/24000 [==============================] - 3s 144us/step - loss: 0.0216 - acc: 0.9952 - val_loss: 0.6498 - val_acc: 0.8820\n"
     ]
    }
   ],
   "source": [
    "training6 = my_model6.fit(partial_x_data,\n",
    "                        partial_y_labels,\n",
    "                        epochs = 10,\n",
    "                        batch_size = 512,\n",
    "                        validation_data=(x_data,y_labels))"
   ]
  },
  {
   "cell_type": "code",
   "execution_count": 0,
   "metadata": {
    "colab": {},
    "colab_type": "code",
    "id": "QrNfiXhn2qCL"
   },
   "outputs": [],
   "source": [
    "results6 = training6.history"
   ]
  },
  {
   "cell_type": "code",
   "execution_count": 143,
   "metadata": {
    "colab": {
     "base_uri": "https://localhost:8080/",
     "height": 51
    },
    "colab_type": "code",
    "executionInfo": {
     "elapsed": 1483,
     "status": "ok",
     "timestamp": 1562510248985,
     "user": {
      "displayName": "Muhammad Awais Saleem Memon",
      "photoUrl": "https://lh6.googleusercontent.com/-EfR3xGC-btQ/AAAAAAAAAAI/AAAAAAAAGPU/E7x558Cz854/s64/photo.jpg",
      "userId": "05252819895099812871"
     },
     "user_tz": -300
    },
    "id": "YZ2xusAZ3Uey",
    "outputId": "def0eb28-50d3-43dc-d94c-918968e784b3"
   },
   "outputs": [
    {
     "name": "stdout",
     "output_type": "stream",
     "text": [
      "4\n"
     ]
    },
    {
     "data": {
      "text/plain": [
       "0.8889999952316284"
      ]
     },
     "execution_count": 143,
     "metadata": {
      "tags": []
     },
     "output_type": "execute_result"
    }
   ],
   "source": [
    "a = results6['val_acc']\n",
    "print(np.argmax(a))\n",
    "b = np.max(results6['val_acc'])\n",
    "b"
   ]
  },
  {
   "cell_type": "code",
   "execution_count": 145,
   "metadata": {
    "colab": {
     "base_uri": "https://localhost:8080/",
     "height": 51
    },
    "colab_type": "code",
    "executionInfo": {
     "elapsed": 834,
     "status": "ok",
     "timestamp": 1562510315531,
     "user": {
      "displayName": "Muhammad Awais Saleem Memon",
      "photoUrl": "https://lh6.googleusercontent.com/-EfR3xGC-btQ/AAAAAAAAAAI/AAAAAAAAGPU/E7x558Cz854/s64/photo.jpg",
      "userId": "05252819895099812871"
     },
     "user_tz": -300
    },
    "id": "AtV5w6OT3WRf",
    "outputId": "5569b5d0-8d5e-445c-9f96-cf6d6ef10a13"
   },
   "outputs": [
    {
     "name": "stdout",
     "output_type": "stream",
     "text": [
      "2\n"
     ]
    },
    {
     "data": {
      "text/plain": [
       "0.8670000095367432"
      ]
     },
     "execution_count": 145,
     "metadata": {
      "tags": []
     },
     "output_type": "execute_result"
    }
   ],
   "source": [
    "aa = results6['val_acc']\n",
    "print(np.argmin(aa))\n",
    "bb = np.min(results6['val_acc'])\n",
    "bb"
   ]
  },
  {
   "cell_type": "code",
   "execution_count": 0,
   "metadata": {
    "colab": {},
    "colab_type": "code",
    "id": "5LaoQDM43w9y"
   },
   "outputs": [],
   "source": []
  },
  {
   "cell_type": "markdown",
   "metadata": {
    "colab_type": "text",
    "id": "HVlZH2713_3K"
   },
   "source": [
    "# Model with MSE loss function"
   ]
  },
  {
   "cell_type": "code",
   "execution_count": 0,
   "metadata": {
    "colab": {},
    "colab_type": "code",
    "id": "e_56fJLa4DYR"
   },
   "outputs": [],
   "source": [
    "my_model7 = models.Sequential()\n",
    "my_model7.add(layers.Dense(16, activation='relu', input_shape=(10000,)))\n",
    "my_model7.add(layers.Dense(16, activation='relu'))\n",
    "my_model7.add(layers.Dense(1, activation='sigmoid'))"
   ]
  },
  {
   "cell_type": "code",
   "execution_count": 0,
   "metadata": {
    "colab": {},
    "colab_type": "code",
    "id": "CfkdZizs4KSb"
   },
   "outputs": [],
   "source": [
    "my_model7.compile(loss='mse',\n",
    "                optimizer='RMSprop',\n",
    "                metrics=['accuracy'])"
   ]
  },
  {
   "cell_type": "code",
   "execution_count": 148,
   "metadata": {
    "colab": {
     "base_uri": "https://localhost:8080/",
     "height": 204
    },
    "colab_type": "code",
    "executionInfo": {
     "elapsed": 14648,
     "status": "ok",
     "timestamp": 1562510469630,
     "user": {
      "displayName": "Muhammad Awais Saleem Memon",
      "photoUrl": "https://lh6.googleusercontent.com/-EfR3xGC-btQ/AAAAAAAAAAI/AAAAAAAAGPU/E7x558Cz854/s64/photo.jpg",
      "userId": "05252819895099812871"
     },
     "user_tz": -300
    },
    "id": "MGN9No6E4Q3v",
    "outputId": "6afe8d3d-ff12-4725-a290-5876b5f744e1"
   },
   "outputs": [
    {
     "name": "stdout",
     "output_type": "stream",
     "text": [
      "Train on 24000 samples, validate on 1000 samples\n",
      "Epoch 1/5\n",
      "24000/24000 [==============================] - 3s 140us/step - loss: 0.1487 - acc: 0.8174 - val_loss: 0.0998 - val_acc: 0.8780\n",
      "Epoch 2/5\n",
      "24000/24000 [==============================] - 3s 108us/step - loss: 0.0783 - acc: 0.9088 - val_loss: 0.0802 - val_acc: 0.8890\n",
      "Epoch 3/5\n",
      "24000/24000 [==============================] - 3s 106us/step - loss: 0.0587 - acc: 0.9304 - val_loss: 0.0779 - val_acc: 0.8940\n",
      "Epoch 4/5\n",
      "24000/24000 [==============================] - 3s 108us/step - loss: 0.0486 - acc: 0.9424 - val_loss: 0.0797 - val_acc: 0.8890\n",
      "Epoch 5/5\n",
      "24000/24000 [==============================] - 3s 107us/step - loss: 0.0412 - acc: 0.9526 - val_loss: 0.0828 - val_acc: 0.8820\n"
     ]
    }
   ],
   "source": [
    "training7 = my_model7.fit(partial_x_data,\n",
    "                        partial_y_labels,\n",
    "                        epochs = 5,\n",
    "                        batch_size = 512,\n",
    "                        validation_data=(x_data,y_labels))"
   ]
  },
  {
   "cell_type": "code",
   "execution_count": 0,
   "metadata": {
    "colab": {},
    "colab_type": "code",
    "id": "nEaatUGa4XBS"
   },
   "outputs": [],
   "source": [
    "results7 = training7.history"
   ]
  },
  {
   "cell_type": "code",
   "execution_count": 154,
   "metadata": {
    "colab": {
     "base_uri": "https://localhost:8080/",
     "height": 51
    },
    "colab_type": "code",
    "executionInfo": {
     "elapsed": 547,
     "status": "ok",
     "timestamp": 1562510556195,
     "user": {
      "displayName": "Muhammad Awais Saleem Memon",
      "photoUrl": "https://lh6.googleusercontent.com/-EfR3xGC-btQ/AAAAAAAAAAI/AAAAAAAAGPU/E7x558Cz854/s64/photo.jpg",
      "userId": "05252819895099812871"
     },
     "user_tz": -300
    },
    "id": "K5rYmK_-4gJa",
    "outputId": "d9b001df-8759-4218-9233-19b4cb9eb392"
   },
   "outputs": [
    {
     "name": "stdout",
     "output_type": "stream",
     "text": [
      "2\n"
     ]
    },
    {
     "data": {
      "text/plain": [
       "0.8940000085830688"
      ]
     },
     "execution_count": 154,
     "metadata": {
      "tags": []
     },
     "output_type": "execute_result"
    }
   ],
   "source": [
    "a = results7['val_acc']\n",
    "print(np.argmax(a))\n",
    "b = np.max(results7['val_acc'])\n",
    "b"
   ]
  },
  {
   "cell_type": "code",
   "execution_count": 0,
   "metadata": {
    "colab": {},
    "colab_type": "code",
    "id": "S-C6syts4iV2"
   },
   "outputs": [],
   "source": []
  },
  {
   "cell_type": "markdown",
   "metadata": {
    "colab_type": "text",
    "id": "zeXSckLW44AX"
   },
   "source": [
    "# Model with \"tanh\" activation function"
   ]
  },
  {
   "cell_type": "code",
   "execution_count": 0,
   "metadata": {
    "colab": {},
    "colab_type": "code",
    "id": "vGiM16su4-LE"
   },
   "outputs": [],
   "source": [
    "my_model8 = models.Sequential()\n",
    "my_model8.add(layers.Dense(64, activation='tanh', input_shape=(10000,)))\n",
    "my_model8.add(layers.Dense(64, activation='tanh'))\n",
    "my_model8.add(layers.Dense(1, activation='sigmoid'))"
   ]
  },
  {
   "cell_type": "code",
   "execution_count": 0,
   "metadata": {
    "colab": {},
    "colab_type": "code",
    "id": "XUO4nqL15HZ1"
   },
   "outputs": [],
   "source": [
    "my_model8.compile(loss='binary_crossentropy',\n",
    "                optimizer='RMSprop',\n",
    "                metrics=['accuracy'])"
   ]
  },
  {
   "cell_type": "code",
   "execution_count": 160,
   "metadata": {
    "colab": {
     "base_uri": "https://localhost:8080/",
     "height": 374
    },
    "colab_type": "code",
    "executionInfo": {
     "elapsed": 35804,
     "status": "ok",
     "timestamp": 1562510761223,
     "user": {
      "displayName": "Muhammad Awais Saleem Memon",
      "photoUrl": "https://lh6.googleusercontent.com/-EfR3xGC-btQ/AAAAAAAAAAI/AAAAAAAAGPU/E7x558Cz854/s64/photo.jpg",
      "userId": "05252819895099812871"
     },
     "user_tz": -300
    },
    "id": "OmdY-lsY5LaS",
    "outputId": "0d029938-e057-49db-ef7c-d393e7f1b63b"
   },
   "outputs": [
    {
     "name": "stdout",
     "output_type": "stream",
     "text": [
      "Train on 24000 samples, validate on 1000 samples\n",
      "Epoch 1/10\n",
      "24000/24000 [==============================] - 4s 167us/step - loss: 6.9848e-05 - acc: 1.0000 - val_loss: 0.8347 - val_acc: 0.8800\n",
      "Epoch 2/10\n",
      "24000/24000 [==============================] - 3s 145us/step - loss: 3.8234e-05 - acc: 1.0000 - val_loss: 0.8719 - val_acc: 0.8820\n",
      "Epoch 3/10\n",
      "24000/24000 [==============================] - 3s 144us/step - loss: 0.0249 - acc: 0.9959 - val_loss: 0.8862 - val_acc: 0.8840\n",
      "Epoch 4/10\n",
      "24000/24000 [==============================] - 3s 145us/step - loss: 1.9090e-05 - acc: 1.0000 - val_loss: 0.9029 - val_acc: 0.8860\n",
      "Epoch 5/10\n",
      "24000/24000 [==============================] - 3s 145us/step - loss: 1.3259e-05 - acc: 1.0000 - val_loss: 0.9295 - val_acc: 0.8830\n",
      "Epoch 6/10\n",
      "24000/24000 [==============================] - 3s 144us/step - loss: 8.4972e-06 - acc: 1.0000 - val_loss: 0.9795 - val_acc: 0.8820\n",
      "Epoch 7/10\n",
      "24000/24000 [==============================] - 3s 144us/step - loss: 0.0197 - acc: 0.9967 - val_loss: 1.0149 - val_acc: 0.8750\n",
      "Epoch 8/10\n",
      "24000/24000 [==============================] - 3s 143us/step - loss: 1.6441e-05 - acc: 1.0000 - val_loss: 1.0028 - val_acc: 0.8740\n",
      "Epoch 9/10\n",
      "24000/24000 [==============================] - 3s 145us/step - loss: 5.8999e-06 - acc: 1.0000 - val_loss: 1.0024 - val_acc: 0.8810\n",
      "Epoch 10/10\n",
      "24000/24000 [==============================] - 3s 144us/step - loss: 2.6941e-06 - acc: 1.0000 - val_loss: 1.0340 - val_acc: 0.8820\n"
     ]
    }
   ],
   "source": [
    "training8 = my_model6.fit(partial_x_data,\n",
    "                        partial_y_labels,\n",
    "                        epochs = 10,\n",
    "                        batch_size = 512,\n",
    "                        validation_data=(x_data,y_labels))"
   ]
  },
  {
   "cell_type": "code",
   "execution_count": 0,
   "metadata": {
    "colab": {},
    "colab_type": "code",
    "id": "uJBaezPg5QlI"
   },
   "outputs": [],
   "source": [
    "results8 = training8.history"
   ]
  },
  {
   "cell_type": "code",
   "execution_count": 162,
   "metadata": {
    "colab": {
     "base_uri": "https://localhost:8080/",
     "height": 51
    },
    "colab_type": "code",
    "executionInfo": {
     "elapsed": 779,
     "status": "ok",
     "timestamp": 1562510780648,
     "user": {
      "displayName": "Muhammad Awais Saleem Memon",
      "photoUrl": "https://lh6.googleusercontent.com/-EfR3xGC-btQ/AAAAAAAAAAI/AAAAAAAAGPU/E7x558Cz854/s64/photo.jpg",
      "userId": "05252819895099812871"
     },
     "user_tz": -300
    },
    "id": "ByTHmyTo5j8V",
    "outputId": "16f4a6fb-aa9b-4aae-b377-a4a7c28ae787"
   },
   "outputs": [
    {
     "name": "stdout",
     "output_type": "stream",
     "text": [
      "3\n"
     ]
    },
    {
     "data": {
      "text/plain": [
       "0.8859999976158142"
      ]
     },
     "execution_count": 162,
     "metadata": {
      "tags": []
     },
     "output_type": "execute_result"
    }
   ],
   "source": [
    "a = results8['val_acc']\n",
    "print(np.argmax(a))\n",
    "b = np.max(results8['val_acc'])\n",
    "b"
   ]
  },
  {
   "cell_type": "code",
   "execution_count": 0,
   "metadata": {
    "colab": {},
    "colab_type": "code",
    "id": "25Yzg8sa5mWE"
   },
   "outputs": [],
   "source": []
  }
 ],
 "metadata": {
  "colab": {
   "collapsed_sections": [
    "MvaKQCRVqstF",
    "N1EqEx2fvlsb",
    "Dr4nFe9iyn1Q",
    "NBidgda1zefH",
    "HVlZH2713_3K",
    "zeXSckLW44AX"
   ],
   "name": "IMDBdataset.ipynb",
   "provenance": [],
   "version": "0.3.2"
  },
  "kernelspec": {
   "display_name": "Python 3",
   "language": "python",
   "name": "python3"
  },
  "language_info": {
   "codemirror_mode": {
    "name": "ipython",
    "version": 3
   },
   "file_extension": ".py",
   "mimetype": "text/x-python",
   "name": "python",
   "nbconvert_exporter": "python",
   "pygments_lexer": "ipython3",
   "version": "3.7.1"
  }
 },
 "nbformat": 4,
 "nbformat_minor": 1
}
