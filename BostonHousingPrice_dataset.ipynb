{
 "cells": [
  {
   "cell_type": "code",
   "execution_count": 1,
   "metadata": {
    "colab": {
     "base_uri": "https://localhost:8080/",
     "height": 34
    },
    "colab_type": "code",
    "executionInfo": {
     "elapsed": 2677,
     "status": "ok",
     "timestamp": 1563018349111,
     "user": {
      "displayName": "Muhammad Awais Saleem Memon",
      "photoUrl": "https://lh6.googleusercontent.com/-EfR3xGC-btQ/AAAAAAAAAAI/AAAAAAAAGPU/E7x558Cz854/s64/photo.jpg",
      "userId": "05252819895099812871"
     },
     "user_tz": -300
    },
    "id": "2q2lX449OAlG",
    "outputId": "a304fc52-140b-4534-b5a7-c5f6f8f8ea83"
   },
   "outputs": [
    {
     "name": "stderr",
     "output_type": "stream",
     "text": [
      "Using TensorFlow backend.\n"
     ]
    }
   ],
   "source": [
    "import keras"
   ]
  },
  {
   "cell_type": "code",
   "execution_count": 0,
   "metadata": {
    "colab": {},
    "colab_type": "code",
    "id": "0Mdn2qxDOqTz"
   },
   "outputs": [],
   "source": [
    "from keras.datasets import boston_housing"
   ]
  },
  {
   "cell_type": "code",
   "execution_count": 3,
   "metadata": {
    "colab": {
     "base_uri": "https://localhost:8080/",
     "height": 51
    },
    "colab_type": "code",
    "executionInfo": {
     "elapsed": 3135,
     "status": "ok",
     "timestamp": 1563018349654,
     "user": {
      "displayName": "Muhammad Awais Saleem Memon",
      "photoUrl": "https://lh6.googleusercontent.com/-EfR3xGC-btQ/AAAAAAAAAAI/AAAAAAAAGPU/E7x558Cz854/s64/photo.jpg",
      "userId": "05252819895099812871"
     },
     "user_tz": -300
    },
    "id": "iyHF4km2OswH",
    "outputId": "344b8dbc-f23d-4d88-f1d5-872e41474b5d"
   },
   "outputs": [
    {
     "name": "stdout",
     "output_type": "stream",
     "text": [
      "Downloading data from https://s3.amazonaws.com/keras-datasets/boston_housing.npz\n",
      "57344/57026 [==============================] - 0s 3us/step\n"
     ]
    }
   ],
   "source": [
    "(train_data, train_targets), (test_data, test_targets) = boston_housing.load_data()"
   ]
  },
  {
   "cell_type": "code",
   "execution_count": 4,
   "metadata": {
    "colab": {
     "base_uri": "https://localhost:8080/",
     "height": 34
    },
    "colab_type": "code",
    "executionInfo": {
     "elapsed": 3109,
     "status": "ok",
     "timestamp": 1563018349658,
     "user": {
      "displayName": "Muhammad Awais Saleem Memon",
      "photoUrl": "https://lh6.googleusercontent.com/-EfR3xGC-btQ/AAAAAAAAAAI/AAAAAAAAGPU/E7x558Cz854/s64/photo.jpg",
      "userId": "05252819895099812871"
     },
     "user_tz": -300
    },
    "id": "3lVOplFeO05P",
    "outputId": "4596a3cb-b0b9-4b86-ff26-5097fecd9b41"
   },
   "outputs": [
    {
     "data": {
      "text/plain": [
       "(404, 13)"
      ]
     },
     "execution_count": 4,
     "metadata": {
      "tags": []
     },
     "output_type": "execute_result"
    }
   ],
   "source": [
    "train_data.shape"
   ]
  },
  {
   "cell_type": "code",
   "execution_count": 5,
   "metadata": {
    "colab": {
     "base_uri": "https://localhost:8080/",
     "height": 34
    },
    "colab_type": "code",
    "executionInfo": {
     "elapsed": 3079,
     "status": "ok",
     "timestamp": 1563018349659,
     "user": {
      "displayName": "Muhammad Awais Saleem Memon",
      "photoUrl": "https://lh6.googleusercontent.com/-EfR3xGC-btQ/AAAAAAAAAAI/AAAAAAAAGPU/E7x558Cz854/s64/photo.jpg",
      "userId": "05252819895099812871"
     },
     "user_tz": -300
    },
    "id": "MVzE47tEO7wQ",
    "outputId": "e767c894-3267-42b5-b77d-76990e880368"
   },
   "outputs": [
    {
     "data": {
      "text/plain": [
       "(102, 13)"
      ]
     },
     "execution_count": 5,
     "metadata": {
      "tags": []
     },
     "output_type": "execute_result"
    }
   ],
   "source": [
    "test_data.shape"
   ]
  },
  {
   "cell_type": "code",
   "execution_count": 0,
   "metadata": {
    "colab": {},
    "colab_type": "code",
    "id": "3olAbIsyO-w0"
   },
   "outputs": [],
   "source": [
    "  #train_targets"
   ]
  },
  {
   "cell_type": "code",
   "execution_count": 0,
   "metadata": {
    "colab": {},
    "colab_type": "code",
    "id": "K1W6W9yHPe2c"
   },
   "outputs": [],
   "source": [
    "mean = train_data.mean(axis=0)\n",
    "train_data -= mean\n",
    "\n",
    "std = train_data.std(axis=0)\n",
    "train_data /= std\n",
    "\n",
    "test_data -= mean\n",
    "test_data /= std"
   ]
  },
  {
   "cell_type": "code",
   "execution_count": 8,
   "metadata": {
    "colab": {
     "base_uri": "https://localhost:8080/",
     "height": 54
    },
    "colab_type": "code",
    "executionInfo": {
     "elapsed": 1161,
     "status": "ok",
     "timestamp": 1563018357819,
     "user": {
      "displayName": "Muhammad Awais Saleem Memon",
      "photoUrl": "https://lh6.googleusercontent.com/-EfR3xGC-btQ/AAAAAAAAAAI/AAAAAAAAGPU/E7x558Cz854/s64/photo.jpg",
      "userId": "05252819895099812871"
     },
     "user_tz": -300
    },
    "id": "EGr-aONLSq8d",
    "outputId": "6710b5d8-a38d-4cb7-a49e-dff035431a7b"
   },
   "outputs": [
    {
     "data": {
      "text/plain": [
       "'Note that the quantities used for normalizing the test data are computed using the training data. You should never use in your workflow any quantity computed on the test data, even for something as simple as data normalization. Q k is trhan b data expose hojaata hy model ko!!! Test data ko expose nhe krnaaaaa!!!'"
      ]
     },
     "execution_count": 8,
     "metadata": {
      "tags": []
     },
     "output_type": "execute_result"
    }
   ],
   "source": [
    "\"\"\"Note that the quantities used for normalizing the test data are computed using the training data. You should never use in your workflow any quantity computed on the test data, even for something as simple as data normalization. Q k is trhan b data expose hojaata hy model ko!!! Test data ko expose nhe krnaaaaa!!!\"\"\""
   ]
  },
  {
   "cell_type": "code",
   "execution_count": 9,
   "metadata": {
    "colab": {
     "base_uri": "https://localhost:8080/",
     "height": 34
    },
    "colab_type": "code",
    "executionInfo": {
     "elapsed": 820,
     "status": "ok",
     "timestamp": 1563018357821,
     "user": {
      "displayName": "Muhammad Awais Saleem Memon",
      "photoUrl": "https://lh6.googleusercontent.com/-EfR3xGC-btQ/AAAAAAAAAAI/AAAAAAAAGPU/E7x558Cz854/s64/photo.jpg",
      "userId": "05252819895099812871"
     },
     "user_tz": -300
    },
    "id": "7xpTU6BuSrbs",
    "outputId": "0178f081-32e0-4eb8-da6d-b991c8eb6e7d"
   },
   "outputs": [
    {
     "data": {
      "text/plain": [
       "13"
      ]
     },
     "execution_count": 9,
     "metadata": {
      "tags": []
     },
     "output_type": "execute_result"
    }
   ],
   "source": [
    "train_data.shape[1]"
   ]
  },
  {
   "cell_type": "code",
   "execution_count": 0,
   "metadata": {
    "colab": {},
    "colab_type": "code",
    "id": "nrKM77cvS5gs"
   },
   "outputs": [],
   "source": [
    "from keras import models\n",
    "from keras import layers\n",
    "\n",
    "def build_model():\n",
    "  model = models.Sequential()\n",
    "  model.add(layers.Dense(64, activation='relu',input_shape=(train_data.shape[1],))) \n",
    "  model.add(layers.Dense(64, activation='relu'))\n",
    "  model.add(layers.Dense(1))\n",
    "  \n",
    "  model.compile(optimizer='rmsprop', loss='mse', metrics=['mae'])\n",
    "  return model"
   ]
  },
  {
   "cell_type": "code",
   "execution_count": 0,
   "metadata": {
    "colab": {},
    "colab_type": "code",
    "id": "k8hp7S3gZPBz"
   },
   "outputs": [],
   "source": [
    "import numpy as np\n",
    "k = 4\n",
    "num_val_samples = len(train_data) // k\n",
    "num_epochs = 100\n",
    "all_scores = []"
   ]
  },
  {
   "cell_type": "code",
   "execution_count": 13,
   "metadata": {
    "colab": {
     "base_uri": "https://localhost:8080/",
     "height": 85
    },
    "colab_type": "code",
    "executionInfo": {
     "elapsed": 100713,
     "status": "ok",
     "timestamp": 1563018483900,
     "user": {
      "displayName": "Muhammad Awais Saleem Memon",
      "photoUrl": "https://lh6.googleusercontent.com/-EfR3xGC-btQ/AAAAAAAAAAI/AAAAAAAAGPU/E7x558Cz854/s64/photo.jpg",
      "userId": "05252819895099812871"
     },
     "user_tz": -300
    },
    "id": "Ks-aNmi_j4PY",
    "outputId": "6c47177d-d9ab-4bef-aab3-8251ddc4621a"
   },
   "outputs": [
    {
     "name": "stdout",
     "output_type": "stream",
     "text": [
      "processing fold # 0\n",
      "processing fold # 1\n",
      "processing fold # 2\n",
      "processing fold # 3\n"
     ]
    }
   ],
   "source": [
    "for i in range(k):\n",
    "  print('processing fold #', i)\n",
    "  val_data = train_data[i * num_val_samples: (i + 1) * num_val_samples]\n",
    "  val_targets = train_targets[i * num_val_samples: (i + 1) * num_val_samples]\n",
    "  \n",
    "  partial_train_data = np.concatenate([train_data[:i * num_val_samples], train_data[(i + 1) * num_val_samples:]], axis=0)\n",
    "  \n",
    "  partial_train_targets = np.concatenate([train_targets[:i * num_val_samples],train_targets[(i + 1) * num_val_samples:]],axis=0)\n",
    "  \n",
    "  model = build_model()\n",
    "  model.fit(partial_train_data, partial_train_targets, epochs=num_epochs, batch_size=1, verbose=0)\n",
    "  \n",
    "  val_mse, val_mae = model.evaluate(val_data, val_targets, verbose=0)\n",
    "  all_scores.append(val_mae)"
   ]
  },
  {
   "cell_type": "code",
   "execution_count": 14,
   "metadata": {
    "colab": {
     "base_uri": "https://localhost:8080/",
     "height": 34
    },
    "colab_type": "code",
    "executionInfo": {
     "elapsed": 811,
     "status": "ok",
     "timestamp": 1563018546922,
     "user": {
      "displayName": "Muhammad Awais Saleem Memon",
      "photoUrl": "https://lh6.googleusercontent.com/-EfR3xGC-btQ/AAAAAAAAAAI/AAAAAAAAGPU/E7x558Cz854/s64/photo.jpg",
      "userId": "05252819895099812871"
     },
     "user_tz": -300
    },
    "id": "AXHbPeo4kUcx",
    "outputId": "f6579ac0-ff05-4fca-a8c1-fb25fd958053"
   },
   "outputs": [
    {
     "data": {
      "text/plain": [
       "[2.2683555867412304, 3.112765165838865, 2.6502901374703587, 2.4866598154058552]"
      ]
     },
     "execution_count": 14,
     "metadata": {
      "tags": []
     },
     "output_type": "execute_result"
    }
   ],
   "source": [
    "all_scores"
   ]
  },
  {
   "cell_type": "code",
   "execution_count": 15,
   "metadata": {
    "colab": {
     "base_uri": "https://localhost:8080/",
     "height": 34
    },
    "colab_type": "code",
    "executionInfo": {
     "elapsed": 715,
     "status": "ok",
     "timestamp": 1563018548267,
     "user": {
      "displayName": "Muhammad Awais Saleem Memon",
      "photoUrl": "https://lh6.googleusercontent.com/-EfR3xGC-btQ/AAAAAAAAAAI/AAAAAAAAGPU/E7x558Cz854/s64/photo.jpg",
      "userId": "05252819895099812871"
     },
     "user_tz": -300
    },
    "id": "G-aQg2_ilZB4",
    "outputId": "06fbfd3c-fc84-443b-b079-b304bc8bb70f"
   },
   "outputs": [
    {
     "data": {
      "text/plain": [
       "2.6295176763640775"
      ]
     },
     "execution_count": 15,
     "metadata": {
      "tags": []
     },
     "output_type": "execute_result"
    }
   ],
   "source": [
    "np.mean(all_scores)"
   ]
  },
  {
   "cell_type": "markdown",
   "metadata": {
    "colab_type": "text",
    "id": "vlz2-nUQnQYO"
   },
   "source": [
    "### Saving the validation logs at each fold"
   ]
  },
  {
   "cell_type": "code",
   "execution_count": 16,
   "metadata": {
    "colab": {
     "base_uri": "https://localhost:8080/",
     "height": 85
    },
    "colab_type": "code",
    "executionInfo": {
     "elapsed": 615353,
     "status": "ok",
     "timestamp": 1563019172247,
     "user": {
      "displayName": "Muhammad Awais Saleem Memon",
      "photoUrl": "https://lh6.googleusercontent.com/-EfR3xGC-btQ/AAAAAAAAAAI/AAAAAAAAGPU/E7x558Cz854/s64/photo.jpg",
      "userId": "05252819895099812871"
     },
     "user_tz": -300
    },
    "id": "kfhOh3Y6nUWl",
    "outputId": "7338f094-a559-4c53-8066-07b33f9b95d3"
   },
   "outputs": [
    {
     "name": "stdout",
     "output_type": "stream",
     "text": [
      "processing fold # 0\n",
      "processing fold # 1\n",
      "processing fold # 2\n",
      "processing fold # 3\n"
     ]
    }
   ],
   "source": [
    "num_epochs = 500\n",
    "\n",
    "all_mae_histories = []\n",
    "for i in range(k):\n",
    "  print('processing fold #', i)\n",
    "  val_data = train_data[i * num_val_samples: (i + 1) * num_val_samples]\n",
    "  val_targets = train_targets[i * num_val_samples: (i + 1) * num_val_samples]\n",
    "\n",
    "  partial_train_data = np.concatenate([train_data[:i * num_val_samples],train_data[(i + 1) * num_val_samples:]],axis=0)\n",
    "  \n",
    "  partial_train_targets = np.concatenate([train_targets[:i * num_val_samples], train_targets[(i + 1) * num_val_samples:]], axis=0)\n",
    "\n",
    "  model = build_model()\n",
    "  \n",
    "  history = model.fit(partial_train_data, partial_train_targets, validation_data=(val_data, val_targets),epochs=num_epochs, batch_size=1, verbose=0)\n",
    "  \n",
    "  mae_history = history.history['val_mean_absolute_error']\n",
    "  \n",
    "  all_mae_histories.append(mae_history)"
   ]
  },
  {
   "cell_type": "code",
   "execution_count": 0,
   "metadata": {
    "colab": {},
    "colab_type": "code",
    "id": "6stYGzPhvNJU"
   },
   "outputs": [],
   "source": [
    "average_mae_history = [np.mean([x[i] for x in all_mae_histories]) for i in range(num_epochs)]\n",
    "#average_mae_history"
   ]
  },
  {
   "cell_type": "code",
   "execution_count": 20,
   "metadata": {
    "colab": {
     "base_uri": "https://localhost:8080/",
     "height": 283
    },
    "colab_type": "code",
    "executionInfo": {
     "elapsed": 1092,
     "status": "ok",
     "timestamp": 1563019231760,
     "user": {
      "displayName": "Muhammad Awais Saleem Memon",
      "photoUrl": "https://lh6.googleusercontent.com/-EfR3xGC-btQ/AAAAAAAAAAI/AAAAAAAAGPU/E7x558Cz854/s64/photo.jpg",
      "userId": "05252819895099812871"
     },
     "user_tz": -300
    },
    "id": "Ffq8jhXtG_Ll",
    "outputId": "fcb5e373-8005-455f-e399-92ab715651fc"
   },
   "outputs": [
    {
     "data": {
      "image/png": "[encoded data removed]",
      "text/plain": [
       "<Figure size 432x288 with 1 Axes>"
      ]
     },
     "metadata": {
      "tags": []
     },
     "output_type": "display_data"
    }
   ],
   "source": [
    "import matplotlib.pyplot as plt\n",
    "plt.plot(range(1, len(average_mae_history) + 1), average_mae_history)\n",
    "plt.xlabel('Epochs')\n",
    "plt.ylabel('Validation MAE')\n",
    "plt.show()"
   ]
  },
  {
   "cell_type": "markdown",
   "metadata": {
    "colab_type": "text",
    "id": "oQWbS3GTJaWr"
   },
   "source": [
    "#### Plotting validation scores, excluding the first 10 data points"
   ]
  },
  {
   "cell_type": "code",
   "execution_count": 21,
   "metadata": {
    "colab": {
     "base_uri": "https://localhost:8080/",
     "height": 283
    },
    "colab_type": "code",
    "executionInfo": {
     "elapsed": 1071,
     "status": "ok",
     "timestamp": 1563019242051,
     "user": {
      "displayName": "Muhammad Awais Saleem Memon",
      "photoUrl": "https://lh6.googleusercontent.com/-EfR3xGC-btQ/AAAAAAAAAAI/AAAAAAAAGPU/E7x558Cz854/s64/photo.jpg",
      "userId": "05252819895099812871"
     },
     "user_tz": -300
    },
    "id": "E2ZqgWbaJKwm",
    "outputId": "e2f23041-7565-4e5e-eeb6-25d158b009a7"
   },
   "outputs": [
    {
     "data": {
      "image/png": "[encoded data removed]",
      "text/plain": [
       "<Figure size 432x288 with 1 Axes>"
      ]
     },
     "metadata": {
      "tags": []
     },
     "output_type": "display_data"
    }
   ],
   "source": [
    "def smooth_curve(points, factor=0.9):\n",
    "  smoothed_points = []\n",
    "  for point in points:\n",
    "    if smoothed_points:\n",
    "      previous = smoothed_points[-1]\n",
    "      smoothed_points.append(previous * factor + point * (1 - factor))\n",
    "    else:\n",
    "      smoothed_points.append(point)\n",
    "  return smoothed_points\n",
    "\n",
    "smooth_mae_history = smooth_curve(average_mae_history[10:])\n",
    "\n",
    "plt.plot(range(1, len(smooth_mae_history) + 1), smooth_mae_history)\n",
    "plt.xlabel('Epochs')\n",
    "plt.ylabel('Validation MAE')\n",
    "plt.show()"
   ]
  },
  {
   "cell_type": "markdown",
   "metadata": {
    "colab_type": "text",
    "id": "7lmSTuqJJmOL"
   },
   "source": [
    "### Training the final model"
   ]
  },
  {
   "cell_type": "code",
   "execution_count": 22,
   "metadata": {
    "colab": {
     "base_uri": "https://localhost:8080/",
     "height": 34
    },
    "colab_type": "code",
    "executionInfo": {
     "elapsed": 3984,
     "status": "ok",
     "timestamp": 1563019250482,
     "user": {
      "displayName": "Muhammad Awais Saleem Memon",
      "photoUrl": "https://lh6.googleusercontent.com/-EfR3xGC-btQ/AAAAAAAAAAI/AAAAAAAAGPU/E7x558Cz854/s64/photo.jpg",
      "userId": "05252819895099812871"
     },
     "user_tz": -300
    },
    "id": "nXFHARCLJgd7",
    "outputId": "a4b32034-f2d0-468a-c74d-f03862b6b4f2"
   },
   "outputs": [
    {
     "name": "stdout",
     "output_type": "stream",
     "text": [
      "102/102 [==============================] - 0s 2ms/step\n"
     ]
    }
   ],
   "source": [
    "model = build_model()\n",
    "model.fit(train_data, train_targets,epochs=80, batch_size=16, verbose=0)\n",
    "test_mse_score, test_mae_score = model.evaluate(test_data, test_targets)"
   ]
  },
  {
   "cell_type": "code",
   "execution_count": 23,
   "metadata": {
    "colab": {
     "base_uri": "https://localhost:8080/",
     "height": 34
    },
    "colab_type": "code",
    "executionInfo": {
     "elapsed": 678,
     "status": "ok",
     "timestamp": 1563019252887,
     "user": {
      "displayName": "Muhammad Awais Saleem Memon",
      "photoUrl": "https://lh6.googleusercontent.com/-EfR3xGC-btQ/AAAAAAAAAAI/AAAAAAAAGPU/E7x558Cz854/s64/photo.jpg",
      "userId": "05252819895099812871"
     },
     "user_tz": -300
    },
    "id": "kcfpZjdSJuCV",
    "outputId": "f4df57c6-6483-40e0-acf3-13cf7d187baf"
   },
   "outputs": [
    {
     "data": {
      "text/plain": [
       "2.6507243829614975"
      ]
     },
     "execution_count": 23,
     "metadata": {
      "tags": []
     },
     "output_type": "execute_result"
    }
   ],
   "source": [
    "test_mae_score"
   ]
  },
  {
   "cell_type": "code",
   "execution_count": 0,
   "metadata": {
    "colab": {},
    "colab_type": "code",
    "id": "gHI7i3HUNREv"
   },
   "outputs": [],
   "source": []
  }
 ],
 "metadata": {
  "colab": {
   "collapsed_sections": [],
   "name": "BostonHousingPrice_dataset(Class-July11,2019).ipynb",
   "provenance": [],
   "version": "0.3.2"
  },
  "kernelspec": {
   "display_name": "Python 3",
   "language": "python",
   "name": "python3"
  },
  "language_info": {
   "codemirror_mode": {
    "name": "ipython",
    "version": 3
   },
   "file_extension": ".py",
   "mimetype": "text/x-python",
   "name": "python",
   "nbconvert_exporter": "python",
   "pygments_lexer": "ipython3",
   "version": "3.7.1"
  }
 },
 "nbformat": 4,
 "nbformat_minor": 1
}
